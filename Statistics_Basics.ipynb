{
  "nbformat": 4,
  "nbformat_minor": 0,
  "metadata": {
    "colab": {
      "provenance": []
    },
    "kernelspec": {
      "name": "python3",
      "display_name": "Python 3"
    },
    "language_info": {
      "name": "python"
    }
  },
  "cells": [
    {
      "cell_type": "markdown",
      "source": [
        "**📘 Theory Questions**\n",
        "--\n",
        "---\n",
        "\n",
        "\n",
        " 1. What is statistics, and why is it important?\n",
        "\n",
        " Statistics is the science of collecting, analyzing, interpreting, and presenting data. It helps in making informed decisions, identifying patterns, and understanding variability in data across various domains like business, healthcare, and research.\n",
        "--\n",
        " 2.  What are the two main types of statistics?\n",
        "\n",
        " - Descriptive Statistics: Summarizes data using measures such as mean, median, and standard deviation.\n",
        "\n",
        " - Inferential Statistics: Makes predictions or inferences about a population based on a sample.\n",
        "---\n",
        " 3.  What are descriptive statistics?\n",
        "\n",
        " - Descriptive statistics provide simple summaries and visualizations of data such as:\n",
        "  - Measures of Central Tendency (Mean, Median, Mode)\n",
        "  - Measures of Central Tendency (Mean, Median, Mode)\n",
        "---\n",
        " 4. What is inferential statistics?\n",
        "\n",
        "  Inferential statistics use sample data to make generalizations or predictions about a larger population through techniques like hypothesis testing, confidence intervals, and regression analysis.\n",
        "---\n",
        " 5.  What is sampling in statistics\n",
        "\n",
        " Sampling is the process of selecting a subset (sample) from a larger group (population) to estimate characteristics of the whole group.\n",
        "---\n",
        " 6.  What are the different types of sampling methods?\n",
        "\n",
        " - Types of sampling methods are !\n",
        "\n",
        "   - Random Sampling\n",
        "\n",
        "   - Stratified Sampling\n",
        "\n",
        "   - Systematic Sampling\n",
        "\n",
        "   - Cluster Sampling\n",
        "\n",
        "   - Convenience Sampling\n",
        "---\n",
        "\n",
        "  7.  What is the difference between random and non-random sampling?\n",
        "\n",
        "   - Random Sampling: Every element has an equal chance of selection.\n",
        "\n",
        "   - Non-random Sampling: Selection is based on convenience or judgment, not random chance.\n",
        "\n",
        "---\n",
        "\n",
        " 8.  Define and give examples of qualitative and quantitative data.\n",
        "\n",
        " - Qualitative: Categorical (e.g., gender, color)\n",
        "\n",
        " - Quantitative: Numerical (e.g., age, salary)\n",
        "\n",
        " ---\n",
        "\n",
        " 9.  What are the different types of data in statistics?\n",
        "\n",
        " - Qualitative (Categorical)\n",
        " - Quantitative (Discrete and Continuous)\n",
        "\n",
        " ---\n",
        "\n",
        " 10.  Explain nominal, ordinal, interval, and ratio levels of measurement.\n",
        "\n",
        "  - Nominal: Categories without order (e.g., gender)\n",
        "\n",
        "  - Ordinal: Ordered categories (e.g., rankings)\n",
        "\n",
        "  -  Interval: Numerical, no true zero (e.g., temperature)\n",
        "\n",
        "  - Ratio: Numerical, true zero exists (e.g., weight)\n",
        "\n",
        "\n",
        "  ---\n",
        "\n",
        "  11.  What is the measure of central tendency ?\n",
        "\n",
        "  It identifies the center of a dataset and includes mean, median, and mode.\n",
        "\n",
        "---\n",
        "\n",
        "12.  Define mean, median, and mode.\n",
        "\n",
        "  - Mean: Average of data\n",
        "\n",
        "  - Median: Middle value\n",
        "\n",
        "  - Mode: Most frequent value\n",
        "\n",
        "---\n",
        "\n",
        "13.  What is the significance of the measure of central tendency?\n",
        "\n",
        "  Helps in summarizing data with a single representative value.\n",
        "\n",
        "---\n",
        "\n",
        "14.  What is variance, and how is it calculated?\n",
        "\n",
        "  Variance measures data spread; it's the average of squared differences from the mean.\n",
        "\n",
        "---\n",
        "\n",
        "15.  What is standard deviation, and why is it important?\n",
        "\n",
        "  It’s the square root of variance and indicates how data values spread around the mean.\n",
        "---\n",
        "\n",
        "\n",
        "16.  Define and explain the term range in statistics.\n",
        "\n",
        "  Range = Maximum value - Minimum value; it shows total spread of data.\n",
        "\n",
        "\n",
        "  ----\n",
        "\n",
        "17.  What is the difference between variance and standard deviation?\n",
        "\n",
        "   - Variance: Average squared deviations\n",
        "\n",
        "   - Standard Deviation: Square root of variance, in same units as data\n",
        "\n",
        "\n",
        "---\n",
        "\n",
        "18.  What is skewness in a dataset ?\n",
        "\n",
        "  It indicates the asymmetry of the data distribution.\n",
        "\n",
        "\n",
        "  ---\n",
        "\n",
        "19.  What does it mean if a dataset is positively or negatively skewed?\n",
        "\n",
        "\n",
        "  - Positive: Tail on the right\n",
        "\n",
        "  - Negative: Tail on the left\n",
        "\n",
        "\n",
        "---\n",
        "\n",
        "20.  Define and explain kurtosis.\n",
        "\n",
        "   Kurtosis is a statistical measure that describes the shape of a distribution's tails in relation to a normal distribution. It helps determine whether a dataset has extreme values (outliers) and how they are distributed.\n",
        "\n",
        "  - There are three main types of kurtosis:\n",
        "   1. **Mesokurtic** – A distribution with kurtosis close to that of a normal distribution (kurtosis ≈ 3).\n",
        "   2. **Leptokurtic** – A distribution with heavy tails, meaning it has more extreme values than a normal distribution (kurtosis > 3).\n",
        "   3. **Platykurtic** – A distribution with light tails, meaning it has fewer extreme values than a normal distribution (kurtosis < 3).\n",
        "\n",
        "   Kurtosis is useful in statistical analysis because it helps assess the likelihood of extreme deviations in data, which is important in fields like finance, quality control, and risk assessment.\n",
        "\n",
        "\n",
        "---\n",
        "\n",
        "21.  What is the purpose of covariance?\n",
        "\n",
        " Covariance shows the direction of the relationship between two variables.\n",
        "\n",
        "---\n",
        "\n",
        "22.  What does correlation measure in statistics?\n",
        "\n",
        "  Correlation quantifies the strength and direction of the relationship between variables.\n",
        "\n",
        "23.  What is the difference between covariance and correlation?\n",
        "\n",
        "- Difference between covariance and correlation\n",
        "\n",
        "  -  Covariance: Shows direction only\n",
        "\n",
        "  -  Correlation: Standardized measure showing both strength and direction\n",
        "\n",
        "---\n",
        "\n",
        "24.  What are some real-world applications of statistics?\n",
        "\n",
        "- Real-world applications of statistics\n",
        "Used in fields like:\n",
        "\n",
        " -   Healthcare (disease spread analysis)\n",
        "\n",
        " -   Business (sales forecasting)\n",
        "\n",
        " -   Education (exam analysis)\n",
        "\n",
        " -   Government (population surveys)\n",
        "\n",
        "---\n",
        "---\n",
        "\n",
        "\n"
      ],
      "metadata": {
        "id": "kT2fgPYe6itw"
      }
    },
    {
      "cell_type": "markdown",
      "source": [
        "\n",
        "**💻 Practical Questions**\n",
        "---\n",
        "\n",
        "---\n",
        "\n",
        "\n",
        "\n",
        "\n"
      ],
      "metadata": {
        "id": "s82Er0xZB4xg"
      }
    },
    {
      "cell_type": "markdown",
      "source": [
        "1.  How do you calculate the mean, median, and mode of a dataset ?\n",
        "\n"
      ],
      "metadata": {
        "id": "Fi-vnsygCcAy"
      }
    },
    {
      "cell_type": "code",
      "source": [
        "from scipy import stats\n",
        "import numpy as np\n",
        "\n",
        "data = [5, 7, 3, 7, 9, 12, 7]\n",
        "\n",
        "mean = np.mean(data)\n",
        "median = np.median(data)\n",
        "mode = stats.mode(data, keepdims=True).mode[0]\n",
        "\n",
        "print(f\"Mean: {mean}, Median: {median}, Mode: {mode}\")\n",
        "\n"
      ],
      "metadata": {
        "colab": {
          "base_uri": "https://localhost:8080/"
        },
        "id": "tSVlzjAiCgtD",
        "outputId": "64bbd4ea-a944-4c86-c67e-20442d0d98aa"
      },
      "execution_count": 2,
      "outputs": [
        {
          "output_type": "stream",
          "name": "stdout",
          "text": [
            "Mean: 7.142857142857143, Median: 7.0, Mode: 7\n"
          ]
        }
      ]
    },
    {
      "cell_type": "markdown",
      "source": [
        "2.  Write a Python program to compute the variance and standard deviation of a dataset?"
      ],
      "metadata": {
        "id": "rljnpTsLC75X"
      }
    },
    {
      "cell_type": "code",
      "source": [
        "variance = np.var(data)\n",
        "std_dev = np.std(data)\n",
        "\n",
        "print(f\"Variance: {variance}, Standard Deviation: {std_dev}\")\n"
      ],
      "metadata": {
        "colab": {
          "base_uri": "https://localhost:8080/"
        },
        "id": "OG0PmQZ3C_3A",
        "outputId": "cb7ed287-7447-4274-8da8-958d57020c83"
      },
      "execution_count": 3,
      "outputs": [
        {
          "output_type": "stream",
          "name": "stdout",
          "text": [
            "Variance: 6.979591836734693, Standard Deviation: 2.6418917155581325\n"
          ]
        }
      ]
    },
    {
      "cell_type": "markdown",
      "source": [
        "3. Create a dataset and classify it into nominal, ordinal, interval, and ratio types.\n"
      ],
      "metadata": {
        "id": "e9ZJ7zg2DE5-"
      }
    },
    {
      "cell_type": "code",
      "source": [
        "import pandas as pd\n",
        "from pandas.api.types import CategoricalDtype\n",
        "\n",
        "# Step 1: Create a dataset\n",
        "data = {\n",
        "    'Name': ['Alice', 'Bob', 'Charlie', 'Diana'],                    # Nominal\n",
        "    'Education Level': ['High School', 'Bachelor', 'Master', 'PhD'],# Ordinal\n",
        "    'Temperature (C)': [36.5, 37.0, 36.8, 37.2],                     # Interval\n",
        "    'Income ($)': [30000, 50000, 70000, 90000]                       # Ratio\n",
        "}\n",
        "\n",
        "# Step 2: Convert to DataFrame\n",
        "df = pd.DataFrame(data)\n",
        "\n",
        "# Step 3: Define ordinal scale for Education Level\n",
        "edu_order = CategoricalDtype(categories=['High School', 'Bachelor', 'Master', 'PhD'], ordered=True)\n",
        "df['Education Level'] = df['Education Level'].astype(edu_order)\n",
        "\n",
        "# Step 4: Display the dataset\n",
        "print(\"Dataset:\\n\")\n",
        "print(df)\n",
        "\n",
        "# Step 5: Print classification of data types\n",
        "print(\"\\nClassification of Variables:\")\n",
        "print(\"1. Name               → Nominal (labels with no order)\")\n",
        "print(\"2. Education Level    → Ordinal (ranked categories)\")\n",
        "print(\"3. Temperature (C)    → Interval (ordered with no true zero)\")\n",
        "print(\"4. Income ($)         → Ratio (ordered with true zero)\")\n",
        "\n"
      ],
      "metadata": {
        "colab": {
          "base_uri": "https://localhost:8080/"
        },
        "id": "-urYtmp0DI9A",
        "outputId": "7c883795-41a9-4d87-dc2c-32131fff1184"
      },
      "execution_count": 5,
      "outputs": [
        {
          "output_type": "stream",
          "name": "stdout",
          "text": [
            "Dataset:\n",
            "\n",
            "      Name Education Level  Temperature (C)  Income ($)\n",
            "0    Alice     High School             36.5       30000\n",
            "1      Bob        Bachelor             37.0       50000\n",
            "2  Charlie          Master             36.8       70000\n",
            "3    Diana             PhD             37.2       90000\n",
            "\n",
            "Classification of Variables:\n",
            "1. Name               → Nominal (labels with no order)\n",
            "2. Education Level    → Ordinal (ranked categories)\n",
            "3. Temperature (C)    → Interval (ordered with no true zero)\n",
            "4. Income ($)         → Ratio (ordered with true zero)\n"
          ]
        }
      ]
    },
    {
      "cell_type": "markdown",
      "source": [
        "4.  Implement sampling techniques like random sampling and stratified sampling."
      ],
      "metadata": {
        "id": "KSqvd8i_Dc6R"
      }
    },
    {
      "cell_type": "code",
      "source": [
        " import pandas as pd\n",
        "from sklearn.model_selection import train_test_split\n",
        "\n",
        "# Step 1: Create sample dataset\n",
        "data = {\n",
        "    'ID': range(1, 11),\n",
        "    'Name': ['Alice', 'Bob', 'Charlie', 'David', 'Eva', 'Frank', 'Grace', 'Helen', 'Ian', 'Judy'],\n",
        "    'Department': ['HR', 'IT', 'IT', 'HR', 'Finance', 'Finance', 'IT', 'HR', 'Finance', 'HR'],\n",
        "    'Score': [88, 75, 90, 70, 85, 80, 92, 60, 78, 65]\n",
        "}\n",
        "df = pd.DataFrame(data)\n",
        "print(\"📋 Original Dataset:\")\n",
        "print(df)\n",
        "\n",
        "# Step 2: Random Sampling (select 5 random rows)\n",
        "random_sample = df.sample(n=5, random_state=1)\n",
        "print(\"\\n🎲 Random Sampling (5 Rows):\")\n",
        "print(random_sample)\n",
        "\n",
        "# Step 3: Stratified Sampling based on 'Department'\n",
        "stratified_sample, _ = train_test_split(df,\n",
        "                                        test_size=0.5,\n",
        "                                        stratify=df['Department'],\n",
        "                                        random_state=1)\n",
        "\n",
        "print(\"\\n📊 Stratified Sampling (based on Department):\")\n",
        "print(stratified_sample)\n",
        "\n"
      ],
      "metadata": {
        "colab": {
          "base_uri": "https://localhost:8080/"
        },
        "id": "EpnvOFPhDkd6",
        "outputId": "633bcac4-5c58-4895-fc1e-b970cb26e1e7"
      },
      "execution_count": 7,
      "outputs": [
        {
          "output_type": "stream",
          "name": "stdout",
          "text": [
            "📋 Original Dataset:\n",
            "   ID     Name Department  Score\n",
            "0   1    Alice         HR     88\n",
            "1   2      Bob         IT     75\n",
            "2   3  Charlie         IT     90\n",
            "3   4    David         HR     70\n",
            "4   5      Eva    Finance     85\n",
            "5   6    Frank    Finance     80\n",
            "6   7    Grace         IT     92\n",
            "7   8    Helen         HR     60\n",
            "8   9      Ian    Finance     78\n",
            "9  10     Judy         HR     65\n",
            "\n",
            "🎲 Random Sampling (5 Rows):\n",
            "   ID     Name Department  Score\n",
            "2   3  Charlie         IT     90\n",
            "9  10     Judy         HR     65\n",
            "6   7    Grace         IT     92\n",
            "4   5      Eva    Finance     85\n",
            "0   1    Alice         HR     88\n",
            "\n",
            "📊 Stratified Sampling (based on Department):\n",
            "   ID   Name Department  Score\n",
            "0   1  Alice         HR     88\n",
            "7   8  Helen         HR     60\n",
            "8   9    Ian    Finance     78\n",
            "1   2    Bob         IT     75\n",
            "5   6  Frank    Finance     80\n"
          ]
        }
      ]
    },
    {
      "cell_type": "markdown",
      "source": [
        "5.  Write a Python function to calculate the range of a dataset?"
      ],
      "metadata": {
        "id": "iLEBhgrqD6bE"
      }
    },
    {
      "cell_type": "code",
      "source": [
        "def calculate_range(data):\n",
        "    \"\"\"\n",
        "    Calculates the range of a numeric dataset.\n",
        "    Range = Maximum value - Minimum value\n",
        "    \"\"\"\n",
        "    if not data:\n",
        "        return None\n",
        "    return max(data) - min(data)\n",
        "\n",
        "# Sample dataset\n",
        "dataset = [12, 25, 7, 34, 18, 29]\n",
        "\n",
        "# Calculate and print range\n",
        "data_range = calculate_range(dataset)\n",
        "print(\"Dataset:\", dataset)\n",
        "print(\"Range of dataset:\", data_range)\n",
        "\n",
        "\n"
      ],
      "metadata": {
        "colab": {
          "base_uri": "https://localhost:8080/"
        },
        "id": "5jvCFunCD9YG",
        "outputId": "9879dc8b-1c56-46c6-b92c-fa62cb8900e5"
      },
      "execution_count": 10,
      "outputs": [
        {
          "output_type": "stream",
          "name": "stdout",
          "text": [
            "Dataset: [12, 25, 7, 34, 18, 29]\n",
            "Range of dataset: 27\n"
          ]
        }
      ]
    },
    {
      "cell_type": "markdown",
      "source": [
        "6.  Create a dataset and plot its histogram to visualize skewness."
      ],
      "metadata": {
        "id": "XMBfOZtyEmzC"
      }
    },
    {
      "cell_type": "code",
      "source": [
        "import numpy as np\n",
        "import seaborn as sns\n",
        "import matplotlib.pyplot as plt\n",
        "from scipy.stats import skew\n",
        "\n",
        "# Step 1: Create a skewed dataset (right-skewed using exponential distribution)\n",
        "data = np.random.exponential(scale=2.0, size=1000)\n",
        "\n",
        "# Step 2: Plot histogram\n",
        "plt.figure(figsize=(8, 5))\n",
        "sns.histplot(data, kde=True, bins=30, color='skyblue')\n",
        "plt.title(\"Histogram to Visualize Skewness\")\n",
        "plt.xlabel(\"Value\")\n",
        "plt.ylabel(\"Frequency\")\n",
        "plt.grid(True)\n",
        "plt.show()\n",
        "\n",
        "# Step 3: Calculate skewness\n",
        "skewness_value = skew(data)\n",
        "print(f\"Skewness of the dataset: {skewness_value:.2f}\")\n"
      ],
      "metadata": {
        "colab": {
          "base_uri": "https://localhost:8080/",
          "height": 504
        },
        "id": "2srQ96dkEqDK",
        "outputId": "92570d2f-4379-45ae-daa3-7ad91f66c996"
      },
      "execution_count": 11,
      "outputs": [
        {
          "output_type": "display_data",
          "data": {
            "text/plain": [
              "<Figure size 800x500 with 1 Axes>"
            ],
            "image/png": "[encoded data removed]"
          },
          "metadata": {}
        },
        {
          "output_type": "stream",
          "name": "stdout",
          "text": [
            "Skewness of the dataset: 2.64\n"
          ]
        }
      ]
    },
    {
      "cell_type": "markdown",
      "source": [
        "7.  Calculate skewness and kurtosis of a dataset using Python libraries."
      ],
      "metadata": {
        "id": "gjCWPwLXEwsZ"
      }
    },
    {
      "cell_type": "code",
      "source": [
        "import numpy as np\n",
        "from scipy.stats import skew, kurtosis\n",
        "\n",
        "# Step 1: Create dataset\n",
        "data = [10, 12, 15, 18, 21, 25, 28, 35, 40, 60]\n",
        "\n",
        "# Step 2: Calculate skewness and kurtosis\n",
        "skewness_value = skew(data)\n",
        "kurtosis_value = kurtosis(data)  # By default, it gives excess kurtosis (K - 3)\n",
        "\n",
        "# Step 3: Print results\n",
        "print(\"Dataset:\", data)\n",
        "print(f\"Skewness: {skewness_value:.2f}\")\n",
        "print(f\"Kurtosis: {kurtosis_value:.2f}\")\n"
      ],
      "metadata": {
        "colab": {
          "base_uri": "https://localhost:8080/"
        },
        "id": "ShnBMwlEE5TA",
        "outputId": "44c13e1f-cd48-4bf7-85e7-5d828dcb16ea"
      },
      "execution_count": 12,
      "outputs": [
        {
          "output_type": "stream",
          "name": "stdout",
          "text": [
            "Dataset: [10, 12, 15, 18, 21, 25, 28, 35, 40, 60]\n",
            "Skewness: 1.03\n",
            "Kurtosis: 0.30\n"
          ]
        }
      ]
    },
    {
      "cell_type": "markdown",
      "source": [
        "8.  Generate a dataset and demonstrate positive and negative skewness."
      ],
      "metadata": {
        "id": "vxhux-LvE8UK"
      }
    },
    {
      "cell_type": "code",
      "source": [
        "import numpy as np\n",
        "import matplotlib.pyplot as plt\n",
        "from scipy.stats import skew\n",
        "\n",
        "# Generate positively skewed data (right-skewed)\n",
        "positive_skew_data = np.random.exponential(scale=2, size=1000)\n",
        "\n",
        "# Generate negatively skewed data (left-skewed)\n",
        "negative_skew_data = np.random.exponential(scale=2, size=1000) * -1 + 10\n",
        "\n",
        "# Calculate skewness values\n",
        "pos_skewness = skew(positive_skew_data)\n",
        "neg_skewness = skew(negative_skew_data)\n",
        "\n",
        "# Plot histograms\n",
        "fig, ax = plt.subplots(1, 2, figsize=(12, 5))\n",
        "\n",
        "ax[0].hist(positive_skew_data, bins=30, color='skyblue', edgecolor='black')\n",
        "ax[0].set_title(f'Positive Skewness (Skewness = {pos_skewness:.2f})')\n",
        "\n",
        "ax[1].hist(negative_skew_data, bins=30, color='salmon', edgecolor='black')\n",
        "ax[1].set_title(f'Negative Skewness (Skewness = {neg_skewness:.2f})')\n",
        "\n",
        "plt.show()\n",
        "\n",
        "\n",
        "\n"
      ],
      "metadata": {
        "colab": {
          "base_uri": "https://localhost:8080/",
          "height": 468
        },
        "id": "GD7FIA7AE_17",
        "outputId": "46057879-4567-4591-d86b-448be1c2837f"
      },
      "execution_count": 13,
      "outputs": [
        {
          "output_type": "display_data",
          "data": {
            "text/plain": [
              "<Figure size 1200x500 with 2 Axes>"
            ],
            "image/png": "[encoded data removed]"
          },
          "metadata": {}
        }
      ]
    },
    {
      "cell_type": "markdown",
      "source": [
        "  -   Positive Skewness (Right Skewed): The distribution has a long tail on the right side, which is typical of a positively skewed distribution. Most data points are concentrated on the left, with fewer larger values pulling the mean to the right.\n",
        "\n",
        "\n",
        "  -   Negative Skewness (Left Skewed): The distribution has a long tail on the left side, indicating a negative skew. Most data points are concentrated on the right, with fewer smaller values pulling the mean to the left."
      ],
      "metadata": {
        "id": "d69wO3p1F7o7"
      }
    },
    {
      "cell_type": "markdown",
      "source": [
        "9.  Write a Python script to calculate covariance between two datasets.\n"
      ],
      "metadata": {
        "id": "noP8ONSPGZ-8"
      }
    },
    {
      "cell_type": "code",
      "source": [
        "import numpy as np\n",
        "\n",
        "# Sample datasets\n",
        "dataset1 = [2, 4, 6, 8, 10]\n",
        "dataset2 = [1, 3, 5, 7, 9]\n",
        "\n",
        "# Calculate covariance matrix\n",
        "cov_matrix = np.cov(dataset1, dataset2)\n",
        "\n",
        "# Extract covariance value\n",
        "covariance_value = cov_matrix[0, 1]\n",
        "\n",
        "print(f\"Covariance between the datasets: {covariance_value:.2f}\")\n"
      ],
      "metadata": {
        "colab": {
          "base_uri": "https://localhost:8080/"
        },
        "id": "0gnZErS9Gkj3",
        "outputId": "cc5bb2e2-139c-47e0-d2f1-0542dbcab977"
      },
      "execution_count": 14,
      "outputs": [
        {
          "output_type": "stream",
          "name": "stdout",
          "text": [
            "Covariance between the datasets: 10.00\n"
          ]
        }
      ]
    },
    {
      "cell_type": "markdown",
      "source": [
        "**Explanation:**"
      ],
      "metadata": {
        "id": "m9C_rKkHGlnv"
      }
    },
    {
      "cell_type": "markdown",
      "source": [
        "-   NumPy's cov() function computes the covariance matrix.\n",
        "\n",
        "-  The matrix contains variances along the diagonal and covariances off-diagonal.\n",
        "\n",
        "-  The covariance value is extracted from the matrix using cov_matrix[0, 1]."
      ],
      "metadata": {
        "id": "c6ad44ILGo6_"
      }
    },
    {
      "cell_type": "markdown",
      "source": [
        "10.  Write a Python script to calculate the correlation coefficient between two datasets.\n"
      ],
      "metadata": {
        "id": "jze8c3k9G3F_"
      }
    },
    {
      "cell_type": "code",
      "source": [
        "import numpy as np\n",
        "\n",
        "# Sample datasets\n",
        "dataset1 = [2, 4, 6, 8, 10]\n",
        "dataset2 = [1, 3, 5, 7, 9]\n",
        "\n",
        "# Calculate correlation coefficient\n",
        "correlation_matrix = np.corrcoef(dataset1, dataset2)\n",
        "\n",
        "# Extract correlation value\n",
        "correlation_value = correlation_matrix[0, 1]\n",
        "\n",
        "print(f\"Correlation coefficient between the datasets: {correlation_value:.2f}\")\n"
      ],
      "metadata": {
        "colab": {
          "base_uri": "https://localhost:8080/"
        },
        "id": "VbRpvS-HG40R",
        "outputId": "d1a2e8a4-6438-44c7-c0e2-49d920070e21"
      },
      "execution_count": 15,
      "outputs": [
        {
          "output_type": "stream",
          "name": "stdout",
          "text": [
            "Correlation coefficient between the datasets: 1.00\n"
          ]
        }
      ]
    },
    {
      "cell_type": "markdown",
      "source": [
        "11.  Create a scatter plot to visualize the relationship between two variables.\n"
      ],
      "metadata": {
        "id": "so2_a8f3HIZi"
      }
    },
    {
      "cell_type": "code",
      "source": [
        "import numpy as np\n",
        "import matplotlib.pyplot as plt\n",
        "\n",
        "# Generate sample data\n",
        "x = np.random.rand(50) * 10  # Random values for X-axis\n",
        "y = x * 2 + np.random.randn(50) * 2  # Linear relationship with some noise\n",
        "\n",
        "# Create scatter plot\n",
        "plt.scatter(x, y, color='blue', edgecolors='black', alpha=0.7)\n",
        "plt.xlabel(\"Variable X\")\n",
        "plt.ylabel(\"Variable Y\")\n",
        "plt.title(\"Scatter Plot of Two Variables\")\n",
        "plt.grid(True)\n",
        "\n",
        "# Show plot\n",
        "plt.show()\n"
      ],
      "metadata": {
        "colab": {
          "base_uri": "https://localhost:8080/",
          "height": 472
        },
        "id": "UHYggLYCHNqb",
        "outputId": "de7f8d93-4cd7-4801-9841-881c6326750a"
      },
      "execution_count": 16,
      "outputs": [
        {
          "output_type": "display_data",
          "data": {
            "text/plain": [
              "<Figure size 640x480 with 1 Axes>"
            ],
            "image/png": "[encoded data removed]"
          },
          "metadata": {}
        }
      ]
    },
    {
      "cell_type": "markdown",
      "source": [
        "12.  Implement and compare simple random sampling and systematic sampling."
      ],
      "metadata": {
        "id": "nW87vvQ9HS2E"
      }
    },
    {
      "cell_type": "markdown",
      "source": [
        "\n",
        "### **Simple Random Sampling**\n",
        "- Every individual in the population has an **equal chance** of being selected.\n",
        "- Selection is purely random, often using methods like **random number generators** or **lottery-style selection**.\n",
        "- Ensures **unbiased representation** but can be inefficient for large datasets.\n",
        "\n",
        "### **Systematic Sampling**\n",
        "- The first sample is chosen **randomly**, but subsequent samples follow a **fixed interval** (e.g., every 5th person in a list).\n",
        "- More **structured** than simple random sampling, making it easier to implement.\n",
        "- Can introduce bias if the population has **hidden patterns** that align with the sampling interval.\n",
        "\n"
      ],
      "metadata": {
        "id": "EqDnW9gNHsQW"
      }
    },
    {
      "cell_type": "code",
      "source": [
        "import numpy as np\n",
        "import pandas as pd\n",
        "\n",
        "# Create a sample dataset\n",
        "data = pd.DataFrame({'ID': np.arange(1, 21), 'Value': np.random.randint(10, 100, 20)})\n",
        "\n",
        "print(\"Original Dataset:\")\n",
        "print(data)\n",
        "\n",
        "# Simple Random Sampling (selecting 5 random samples)\n",
        "simple_random_sample = data.sample(n=5, random_state=42)\n",
        "print(\"\\nSimple Random Sample:\")\n",
        "print(simple_random_sample)\n",
        "\n",
        "# Systematic Sampling (selecting every 4th element)\n",
        "interval = 4\n",
        "start = np.random.randint(0, interval)\n",
        "systematic_sample = data.iloc[start::interval]\n",
        "\n",
        "print(\"\\nSystematic Sample:\")\n",
        "print(systematic_sample)\n"
      ],
      "metadata": {
        "colab": {
          "base_uri": "https://localhost:8080/"
        },
        "id": "Bb3fl0pOIDV8",
        "outputId": "6c388570-9518-4b74-8980-4ba3ee81c345"
      },
      "execution_count": 19,
      "outputs": [
        {
          "output_type": "stream",
          "name": "stdout",
          "text": [
            "Original Dataset:\n",
            "    ID  Value\n",
            "0    1     86\n",
            "1    2     60\n",
            "2    3     40\n",
            "3    4     63\n",
            "4    5     31\n",
            "5    6     34\n",
            "6    7     38\n",
            "7    8     69\n",
            "8    9     97\n",
            "9   10     34\n",
            "10  11     81\n",
            "11  12     21\n",
            "12  13     85\n",
            "13  14     54\n",
            "14  15     38\n",
            "15  16     55\n",
            "16  17     18\n",
            "17  18     65\n",
            "18  19     73\n",
            "19  20     53\n",
            "\n",
            "Simple Random Sample:\n",
            "    ID  Value\n",
            "0    1     86\n",
            "17  18     65\n",
            "15  16     55\n",
            "1    2     60\n",
            "8    9     97\n",
            "\n",
            "Systematic Sample:\n",
            "    ID  Value\n",
            "1    2     60\n",
            "5    6     34\n",
            "9   10     34\n",
            "13  14     54\n",
            "17  18     65\n"
          ]
        }
      ]
    },
    {
      "cell_type": "markdown",
      "source": [
        "13.  Calculate the mean, median, and mode of grouped data."
      ],
      "metadata": {
        "id": "WB1nzvWdIN0S"
      }
    },
    {
      "cell_type": "code",
      "source": [
        "import numpy as np\n",
        "import scipy.stats as stats\n",
        "\n",
        "# Sample grouped data (class intervals and frequencies)\n",
        "class_intervals = [(0, 10), (10, 20), (20, 30), (30, 40), (40, 50)]\n",
        "frequencies = [5, 8, 12, 7, 3]\n",
        "\n",
        "# Calculate midpoints for each class interval\n",
        "midpoints = [(interval[0] + interval[1]) / 2 for interval in class_intervals]\n",
        "\n",
        "# Calculate mean\n",
        "mean = sum(f * x for f, x in zip(frequencies, midpoints)) / sum(frequencies)\n",
        "\n",
        "# Calculate median\n",
        "cumulative_frequencies = np.cumsum(frequencies)\n",
        "total_frequency = sum(frequencies)\n",
        "median_class_index = np.where(cumulative_frequencies >= total_frequency / 2)[0][0]\n",
        "L = class_intervals[median_class_index][0]  # Lower boundary of median class\n",
        "CF = cumulative_frequencies[median_class_index - 1] if median_class_index > 0 else 0\n",
        "f_median = frequencies[median_class_index]\n",
        "h = class_intervals[median_class_index][1] - class_intervals[median_class_index][0]\n",
        "median = L + ((total_frequency / 2 - CF) / f_median) * h\n",
        "\n",
        "# Calculate mode\n",
        "modal_class_index = np.argmax(frequencies)\n",
        "L_mode = class_intervals[modal_class_index][0]\n",
        "f1 = frequencies[modal_class_index]\n",
        "f0 = frequencies[modal_class_index - 1] if modal_class_index > 0 else 0\n",
        "f2 = frequencies[modal_class_index + 1] if modal_class_index < len(frequencies) - 1 else 0\n",
        "mode = L_mode + ((f1 - f0) / ((2 * f1) - f0 - f2)) * h\n",
        "\n",
        "# Display results\n",
        "print(f\"Mean: {mean:.2f}\")\n",
        "print(f\"Median: {median:.2f}\")\n",
        "print(f\"Mode: {mode:.2f}\")\n"
      ],
      "metadata": {
        "colab": {
          "base_uri": "https://localhost:8080/"
        },
        "id": "VXdqsTOTIaZt",
        "outputId": "30e1b99a-29f1-46cb-c162-8e0244fdc7e6"
      },
      "execution_count": 20,
      "outputs": [
        {
          "output_type": "stream",
          "name": "stdout",
          "text": [
            "Mean: 23.57\n",
            "Median: 23.75\n",
            "Mode: 24.44\n"
          ]
        }
      ]
    },
    {
      "cell_type": "markdown",
      "source": [
        "14.  Simulate data using Python and calculate its central tendency and dispersion.\n"
      ],
      "metadata": {
        "id": "cCguQonPIv4t"
      }
    },
    {
      "cell_type": "code",
      "source": [
        "import numpy as np\n",
        "import pandas as pd\n",
        "import scipy.stats as stats\n",
        "\n",
        "# Generate random dataset\n",
        "data = np.random.randint(10, 100, 20)  # 20 random numbers between 10 and 100\n",
        "df = pd.DataFrame(data, columns=['Values'])\n",
        "\n",
        "# Calculate central tendency\n",
        "mean_value = np.mean(df['Values'])\n",
        "median_value = np.median(df['Values'])\n",
        "mode_result = stats.mode(df['Values'], keepdims=True)  # Updated method\n",
        "mode_value = mode_result.mode[0]  # Corrected way to extract mode\n",
        "\n",
        "# Calculate dispersion\n",
        "variance_value = np.var(df['Values'])\n",
        "std_dev_value = np.std(df['Values'])\n",
        "range_value = np.max(df['Values']) - np.min(df['Values'])\n",
        "\n",
        "# Display results\n",
        "print(\"Generated Dataset:\")\n",
        "print(df)\n",
        "print(\"\\nCentral Tendency Measures:\")\n",
        "print(f\"Mean: {mean_value:.2f}\")\n",
        "print(f\"Median: {median_value:.2f}\")\n",
        "print(f\"Mode: {mode_value}\")\n",
        "\n",
        "print(\"\\nDispersion Measures:\")\n",
        "print(f\"Variance: {variance_value:.2f}\")\n",
        "print(f\"Standard Deviation: {std_dev_value:.2f}\")\n",
        "print(f\"Range: {range_value}\")\n",
        "\n"
      ],
      "metadata": {
        "colab": {
          "base_uri": "https://localhost:8080/"
        },
        "id": "R-NJkQyeI1uX",
        "outputId": "8480ba7f-aac3-4b21-ddcc-361b6ddc42cb"
      },
      "execution_count": 22,
      "outputs": [
        {
          "output_type": "stream",
          "name": "stdout",
          "text": [
            "Generated Dataset:\n",
            "    Values\n",
            "0       53\n",
            "1       94\n",
            "2       54\n",
            "3       45\n",
            "4       23\n",
            "5       11\n",
            "6       22\n",
            "7       39\n",
            "8       92\n",
            "9       44\n",
            "10      89\n",
            "11      96\n",
            "12      49\n",
            "13      15\n",
            "14      59\n",
            "15      27\n",
            "16      73\n",
            "17      81\n",
            "18      96\n",
            "19      96\n",
            "\n",
            "Central Tendency Measures:\n",
            "Mean: 57.90\n",
            "Median: 53.50\n",
            "Mode: 96\n",
            "\n",
            "Dispersion Measures:\n",
            "Variance: 844.39\n",
            "Standard Deviation: 29.06\n",
            "Range: 85\n"
          ]
        }
      ]
    },
    {
      "cell_type": "markdown",
      "source": [
        "15. Use NumPy or pandas to summarize a dataset’s descriptive statistics.\n"
      ],
      "metadata": {
        "id": "gdXac_d8JH-g"
      }
    },
    {
      "cell_type": "code",
      "source": [
        "import numpy as np\n",
        "\n",
        "# Sample dataset\n",
        "data = np.array([10, 20, 30, 40, 50, 60, 70, 80, 90, 100])\n",
        "\n",
        "# Compute statistics\n",
        "mean = np.mean(data)\n",
        "median = np.median(data)\n",
        "std_dev = np.std(data)\n",
        "variance = np.var(data)\n",
        "\n",
        "print(f\"Mean: {mean}\")\n",
        "print(f\"Median: {median}\")\n",
        "print(f\"Standard Deviation: {std_dev}\")\n",
        "print(f\"Variance: {variance}\")\n"
      ],
      "metadata": {
        "colab": {
          "base_uri": "https://localhost:8080/"
        },
        "id": "tiHzbPAkJNc6",
        "outputId": "0aca7da9-890f-4eee-9d1b-aadc7fb403c0"
      },
      "execution_count": 23,
      "outputs": [
        {
          "output_type": "stream",
          "name": "stdout",
          "text": [
            "Mean: 55.0\n",
            "Median: 55.0\n",
            "Standard Deviation: 28.722813232690143\n",
            "Variance: 825.0\n"
          ]
        }
      ]
    },
    {
      "cell_type": "markdown",
      "source": [
        "16.  Plot a boxplot to understand the spread and identify outliers."
      ],
      "metadata": {
        "id": "ZHON5STyJa66"
      }
    },
    {
      "cell_type": "code",
      "source": [
        "import numpy as np\n",
        "import matplotlib.pyplot as plt\n",
        "import seaborn as sns\n",
        "\n",
        "# Generate random dataset with some outliers\n",
        "data = np.append(np.random.normal(50, 15, 100), [10, 100, 120])  # Adding outliers\n",
        "\n",
        "# Create boxplot\n",
        "plt.figure(figsize=(8, 5))\n",
        "sns.boxplot(data=data, color=\"skyblue\")\n",
        "\n",
        "# Add labels\n",
        "plt.title(\"Boxplot to Identify Spread and Outliers\")\n",
        "plt.xlabel(\"Dataset\")\n",
        "plt.ylabel(\"Values\")\n",
        "\n",
        "# Show plot\n",
        "plt.show()\n"
      ],
      "metadata": {
        "colab": {
          "base_uri": "https://localhost:8080/",
          "height": 473
        },
        "id": "chQnFJesJdtO",
        "outputId": "6a01b7a9-a3c3-4801-8e6b-048689970f9c"
      },
      "execution_count": 24,
      "outputs": [
        {
          "output_type": "display_data",
          "data": {
            "text/plain": [
              "<Figure size 800x500 with 1 Axes>"
            ],
            "image/png": "[encoded data removed]"
          },
          "metadata": {}
        }
      ]
    },
    {
      "cell_type": "markdown",
      "source": [
        "17.  Calculate the interquartile range (IQR) of a dataset."
      ],
      "metadata": {
        "id": "rAy-W7ejJn2N"
      }
    },
    {
      "cell_type": "code",
      "source": [
        "import numpy as np\n",
        "\n",
        "# Sample dataset\n",
        "data = [10, 20, 30, 40, 50, 60, 70, 80, 90, 100]\n",
        "\n",
        "# Calculate Q1 and Q3\n",
        "Q1 = np.percentile(data, 25)\n",
        "Q3 = np.percentile(data, 75)\n",
        "\n",
        "# Compute IQR\n",
        "IQR = Q3 - Q1\n",
        "\n",
        "print(f\"Interquartile Range (IQR): {IQR}\")\n"
      ],
      "metadata": {
        "colab": {
          "base_uri": "https://localhost:8080/"
        },
        "id": "OMsyFC3DJr7F",
        "outputId": "0c7264b2-6401-4cee-e927-de7259f60bb6"
      },
      "execution_count": 25,
      "outputs": [
        {
          "output_type": "stream",
          "name": "stdout",
          "text": [
            "Interquartile Range (IQR): 45.0\n"
          ]
        }
      ]
    },
    {
      "cell_type": "markdown",
      "source": [
        "18.  Implement Z-score normalization and explain its significance."
      ],
      "metadata": {
        "id": "b_Dtk2IyJvst"
      }
    },
    {
      "cell_type": "code",
      "source": [
        "import numpy as np\n",
        "\n",
        "# Sample dataset\n",
        "data = np.array([10, 20, 30, 40, 50, 60, 70, 80, 90, 100])\n",
        "\n",
        "# Calculate mean and standard deviation\n",
        "mean = np.mean(data)\n",
        "std_dev = np.std(data)\n",
        "\n",
        "# Apply Z-score normalization\n",
        "z_scores = (data - mean) / std_dev\n",
        "\n",
        "print(\"Original Data:\", data)\n",
        "print(\"Z-Score Normalized Data:\", z_scores)\n"
      ],
      "metadata": {
        "colab": {
          "base_uri": "https://localhost:8080/"
        },
        "id": "UclJeWzyJzVF",
        "outputId": "00f428c8-3c47-4140-df87-f003484bd072"
      },
      "execution_count": 26,
      "outputs": [
        {
          "output_type": "stream",
          "name": "stdout",
          "text": [
            "Original Data: [ 10  20  30  40  50  60  70  80  90 100]\n",
            "Z-Score Normalized Data: [-1.5666989  -1.21854359 -0.87038828 -0.52223297 -0.17407766  0.17407766\n",
            "  0.52223297  0.87038828  1.21854359  1.5666989 ]\n"
          ]
        }
      ]
    },
    {
      "cell_type": "markdown",
      "source": [
        "19.  Compare two datasets using their standard deviations."
      ],
      "metadata": {
        "id": "Bpl5be9fJ5th"
      }
    },
    {
      "cell_type": "code",
      "source": [
        "import numpy as np\n",
        "\n",
        "# Sample datasets\n",
        "dataset1 = [10, 20, 30, 40, 50, 60, 70, 80, 90, 100]\n",
        "dataset2 = [15, 25, 35, 45, 55, 65, 75, 85, 95, 105]\n",
        "\n",
        "# Calculate standard deviations\n",
        "std_dev1 = np.std(dataset1)\n",
        "std_dev2 = np.std(dataset2)\n",
        "\n",
        "print(f\"Standard Deviation of Dataset 1: {std_dev1:.2f}\")\n",
        "print(f\"Standard Deviation of Dataset 2: {std_dev2:.2f}\")\n",
        "\n",
        "# Compare variability\n",
        "if std_dev1 > std_dev2:\n",
        "    print(\"Dataset 1 has more variability.\")\n",
        "elif std_dev1 < std_dev2:\n",
        "    print(\"Dataset 2 has more variability.\")\n",
        "else:\n",
        "    print(\"Both datasets have similar variability.\")\n"
      ],
      "metadata": {
        "colab": {
          "base_uri": "https://localhost:8080/"
        },
        "id": "8whdbvMFKAfY",
        "outputId": "f5305a6e-4875-4079-d9a7-b1c36725bff2"
      },
      "execution_count": 27,
      "outputs": [
        {
          "output_type": "stream",
          "name": "stdout",
          "text": [
            "Standard Deviation of Dataset 1: 28.72\n",
            "Standard Deviation of Dataset 2: 28.72\n",
            "Both datasets have similar variability.\n"
          ]
        }
      ]
    },
    {
      "cell_type": "markdown",
      "source": [
        "20.  Write a Python program to visualize covariance using a heatmap."
      ],
      "metadata": {
        "id": "u0o2H4kyKF13"
      }
    },
    {
      "cell_type": "code",
      "source": [
        "import numpy as np\n",
        "import pandas as pd\n",
        "import seaborn as sns\n",
        "import matplotlib.pyplot as plt\n",
        "\n",
        "# Generate sample dataset\n",
        "np.random.seed(42)\n",
        "data = pd.DataFrame({\n",
        "    'Feature1': np.random.randint(10, 100, 50),\n",
        "    'Feature2': np.random.randint(20, 80, 50),\n",
        "    'Feature3': np.random.randint(30, 90, 50)\n",
        "})\n",
        "\n",
        "# Compute covariance matrix\n",
        "cov_matrix = data.cov()\n",
        "\n",
        "# Create heatmap\n",
        "plt.figure(figsize=(6, 4))\n",
        "sns.heatmap(cov_matrix, annot=True, cmap=\"coolwarm\", fmt=\".2f\")\n",
        "\n",
        "# Add title\n",
        "plt.title(\"Covariance Matrix Heatmap\")\n",
        "\n",
        "# Show plot\n",
        "plt.show()\n"
      ],
      "metadata": {
        "colab": {
          "base_uri": "https://localhost:8080/",
          "height": 391
        },
        "id": "eFYEf1QfKMlJ",
        "outputId": "2606285d-8c0b-461e-9791-24b790825d11"
      },
      "execution_count": 28,
      "outputs": [
        {
          "output_type": "display_data",
          "data": {
            "text/plain": [
              "<Figure size 600x400 with 2 Axes>"
            ],
            "image/png": "[encoded data removed]"
          },
          "metadata": {}
        }
      ]
    },
    {
      "cell_type": "markdown",
      "source": [
        "21.  Use seaborn to create a correlation matrix for a dataset.\n"
      ],
      "metadata": {
        "id": "diLSgW46KO4Z"
      }
    },
    {
      "cell_type": "code",
      "source": [
        "import numpy as np\n",
        "import pandas as pd\n",
        "import seaborn as sns\n",
        "import matplotlib.pyplot as plt\n",
        "\n",
        "# Generate sample dataset\n",
        "np.random.seed(42)\n",
        "data = pd.DataFrame({\n",
        "    'Feature1': np.random.randint(10, 100, 50),\n",
        "    'Feature2': np.random.randint(20, 80, 50),\n",
        "    'Feature3': np.random.randint(30, 90, 50)\n",
        "})\n",
        "\n",
        "# Compute correlation matrix\n",
        "corr_matrix = data.corr()\n",
        "\n",
        "# Create heatmap\n",
        "plt.figure(figsize=(6, 4))\n",
        "sns.heatmap(corr_matrix, annot=True, cmap=\"coolwarm\", fmt=\".2f\")\n",
        "\n",
        "# Add title\n",
        "plt.title(\"Correlation Matrix Heatmap\")\n",
        "\n",
        "# Show plot\n",
        "plt.show()\n"
      ],
      "metadata": {
        "colab": {
          "base_uri": "https://localhost:8080/",
          "height": 391
        },
        "id": "DYzExFM4KXly",
        "outputId": "37ffeba4-1075-4537-ae66-e34f717b8b46"
      },
      "execution_count": 29,
      "outputs": [
        {
          "output_type": "display_data",
          "data": {
            "text/plain": [
              "<Figure size 600x400 with 2 Axes>"
            ],
            "image/png": "[encoded data removed]"
          },
          "metadata": {}
        }
      ]
    },
    {
      "cell_type": "markdown",
      "source": [
        "22.  Generate a dataset and implement both variance and standard deviation computations."
      ],
      "metadata": {
        "id": "Uz0FpJeUKgCe"
      }
    },
    {
      "cell_type": "code",
      "source": [
        "import numpy as np\n",
        "\n",
        "# Generate a random dataset\n",
        "data = np.random.randint(10, 100, 20)  # 20 random numbers between 10 and 100\n",
        "\n",
        "# Compute variance and standard deviation\n",
        "variance = np.var(data)\n",
        "std_dev = np.std(data)\n",
        "\n",
        "# Display results\n",
        "print(\"Generated Dataset:\", data)\n",
        "print(f\"Variance: {variance:.2f}\")\n",
        "print(f\"Standard Deviation: {std_dev:.2f}\")\n"
      ],
      "metadata": {
        "colab": {
          "base_uri": "https://localhost:8080/"
        },
        "id": "60HTfFl9KjRj",
        "outputId": "63d37445-a795-4d36-c294-e4aa57111f28"
      },
      "execution_count": 30,
      "outputs": [
        {
          "output_type": "stream",
          "name": "stdout",
          "text": [
            "Generated Dataset: [44 74 56 87 12 10 14 99 23 36 18 88 24 99 51 86 60 72 61 13]\n",
            "Variance: 928.13\n",
            "Standard Deviation: 30.47\n"
          ]
        }
      ]
    },
    {
      "cell_type": "markdown",
      "source": [
        "23.  Visualize skewness and kurtosis using Python libraries like matplotlib or seaborn."
      ],
      "metadata": {
        "id": "pfejDQbzKrft"
      }
    },
    {
      "cell_type": "code",
      "source": [
        "import numpy as np\n",
        "import matplotlib.pyplot as plt\n",
        "import seaborn as sns\n",
        "import scipy.stats as stats\n",
        "\n",
        "# Generate sample dataset\n",
        "data = np.random.normal(50, 15, 1000)  # Normally distributed data\n",
        "\n",
        "# Compute skewness and kurtosis\n",
        "skewness = stats.skew(data)\n",
        "kurtosis = stats.kurtosis(data)\n",
        "\n",
        "# Create histogram and density plot\n",
        "plt.figure(figsize=(8, 5))\n",
        "sns.histplot(data, kde=True, color=\"skyblue\")\n",
        "\n",
        "# Add text annotations\n",
        "plt.text(30, 50, f\"Skewness: {skewness:.2f}\", fontsize=12, color=\"red\")\n",
        "plt.text(30, 45, f\"Kurtosis: {kurtosis:.2f}\", fontsize=12, color=\"red\")\n",
        "\n",
        "# Add labels\n",
        "plt.title(\"Visualization of Skewness and Kurtosis\")\n",
        "plt.xlabel(\"Values\")\n",
        "plt.ylabel(\"Frequency\")\n",
        "\n",
        "# Show plot\n",
        "plt.show()\n"
      ],
      "metadata": {
        "colab": {
          "base_uri": "https://localhost:8080/",
          "height": 487
        },
        "id": "qXFAkR0RKuSN",
        "outputId": "7ca7d65a-71f5-4fd1-cec4-ffdb1d4a4756"
      },
      "execution_count": 31,
      "outputs": [
        {
          "output_type": "display_data",
          "data": {
            "text/plain": [
              "<Figure size 800x500 with 1 Axes>"
            ],
            "image/png": "[encoded data removed]"
          },
          "metadata": {}
        }
      ]
    },
    {
      "cell_type": "markdown",
      "source": [
        "24.  Implement the Pearson and Spearman correlation coefficients for a dataset."
      ],
      "metadata": {
        "id": "_HQTHiPdK33t"
      }
    },
    {
      "cell_type": "code",
      "source": [
        "import numpy as np\n",
        "import scipy.stats as stats\n",
        "\n",
        "# Sample dataset\n",
        "X = np.array([10, 20, 30, 40, 50, 60, 70, 80, 90, 100])\n",
        "Y = np.array([15, 25, 35, 45, 55, 65, 75, 85, 95, 105])\n",
        "\n",
        "# Compute Pearson correlation\n",
        "pearson_corr, _ = stats.pearsonr(X, Y)\n",
        "\n",
        "# Compute Spearman correlation\n",
        "spearman_corr, _ = stats.spearmanr(X, Y)\n",
        "\n",
        "print(f\"Pearson Correlation: {pearson_corr:.2f}\")\n",
        "print(f\"Spearman Correlation: {spearman_corr:.2f}\")\n"
      ],
      "metadata": {
        "colab": {
          "base_uri": "https://localhost:8080/"
        },
        "id": "cXP7i-xWNCmR",
        "outputId": "6ea34963-7788-4702-b3f5-391fc6a9533b"
      },
      "execution_count": 32,
      "outputs": [
        {
          "output_type": "stream",
          "name": "stdout",
          "text": [
            "Pearson Correlation: 1.00\n",
            "Spearman Correlation: 1.00\n"
          ]
        }
      ]
    }
  ]
}
